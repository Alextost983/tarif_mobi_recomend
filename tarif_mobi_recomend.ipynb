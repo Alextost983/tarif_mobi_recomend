{
 "cells": [
  {
   "attachments": {},
   "cell_type": "markdown",
   "metadata": {},
   "source": [
    "# Рекомендация тарифов"
   ]
  },
  {
   "attachments": {},
   "cell_type": "markdown",
   "metadata": {},
   "source": [
    "В нашем распоряжении данные о поведении клиентов, которые уже перешли на эти тарифы (из проекта курса «Статистический анализ данных»). Построим модель для задачи классификации, которая выберет подходящий тариф.\n",
    "***\n",
    "В качестве задачи, строим модель с максимально большим значением *accuracy*. По условию, примим во внимание минимальный уровень значения *accuracy*, 0.75. Проверим значения на тестовой выборке.\n",
    "Разобьем исследование на следующие этапы:\n",
    "- 1.Изучим и визуализируем данные\n",
    "- 2.Разделим данные на выборки, написав ключевую функцию для раделения\n",
    "- 3.Исследуем три модели решения и определим наиболее результативную, используя несколько гиперпараметров.\n",
    "- 4.Проверим модель на тестовой выборке и оценим насколько модели соответствуют требуемым параметрам.\n",
    "- 5.Проверим модель на адекватность,о путем сравнения их со случайной моделью."
   ]
  },
  {
   "attachments": {},
   "cell_type": "markdown",
   "metadata": {},
   "source": [
    "## Откроем и изучим файл"
   ]
  },
  {
   "cell_type": "code",
   "execution_count": 52,
   "metadata": {},
   "outputs": [],
   "source": [
    "import pandas as pd\n",
    "import numpy as np\n",
    "\n",
    "import matplotlib.pyplot as plt\n",
    "import seaborn as sns\n",
    "\n",
    "from sklearn.linear_model import LinearRegression\n",
    "from sklearn.model_selection import train_test_split\n",
    "from sklearn.metrics import mean_squared_error\n",
    "\n",
    "from sklearn.tree import DecisionTreeClassifier\n",
    "from sklearn.ensemble import RandomForestClassifier\n",
    "from sklearn.linear_model import LogisticRegression\n",
    "\n",
    "from sklearn.metrics import accuracy_score\n",
    "\n",
    "df = pd.read_csv('/datasets/users_behavior.csv')"
   ]
  },
  {
   "cell_type": "code",
   "execution_count": 53,
   "metadata": {},
   "outputs": [
    {
     "name": "stdout",
     "output_type": "stream",
     "text": [
      "<class 'pandas.core.frame.DataFrame'>\n",
      "RangeIndex: 3214 entries, 0 to 3213\n",
      "Data columns (total 5 columns):\n",
      " #   Column    Non-Null Count  Dtype  \n",
      "---  ------    --------------  -----  \n",
      " 0   calls     3214 non-null   float64\n",
      " 1   minutes   3214 non-null   float64\n",
      " 2   messages  3214 non-null   float64\n",
      " 3   mb_used   3214 non-null   float64\n",
      " 4   is_ultra  3214 non-null   int64  \n",
      "dtypes: float64(4), int64(1)\n",
      "memory usage: 125.7 KB\n"
     ]
    }
   ],
   "source": [
    "df.info()"
   ]
  },
  {
   "cell_type": "code",
   "execution_count": 54,
   "metadata": {},
   "outputs": [
    {
     "name": "stdout",
     "output_type": "stream",
     "text": [
      "   calls  minutes  messages   mb_used  is_ultra\n",
      "0   40.0   311.90      83.0  19915.42         0\n",
      "1   85.0   516.75      56.0  22696.96         0\n",
      "2   77.0   467.66      86.0  21060.45         0\n",
      "3  106.0   745.53      81.0   8437.39         1\n",
      "4   66.0   418.74       1.0  14502.75         0\n"
     ]
    }
   ],
   "source": [
    "print(df.head())"
   ]
  },
  {
   "cell_type": "code",
   "execution_count": 55,
   "metadata": {},
   "outputs": [
    {
     "data": {
      "text/html": [
       "<div>\n",
       "<style scoped>\n",
       "    .dataframe tbody tr th:only-of-type {\n",
       "        vertical-align: middle;\n",
       "    }\n",
       "\n",
       "    .dataframe tbody tr th {\n",
       "        vertical-align: top;\n",
       "    }\n",
       "\n",
       "    .dataframe thead th {\n",
       "        text-align: right;\n",
       "    }\n",
       "</style>\n",
       "<table border=\"1\" class=\"dataframe\">\n",
       "  <thead>\n",
       "    <tr style=\"text-align: right;\">\n",
       "      <th></th>\n",
       "      <th>calls</th>\n",
       "      <th>minutes</th>\n",
       "      <th>messages</th>\n",
       "      <th>mb_used</th>\n",
       "      <th>is_ultra</th>\n",
       "    </tr>\n",
       "  </thead>\n",
       "  <tbody>\n",
       "    <tr>\n",
       "      <th>count</th>\n",
       "      <td>3214.000000</td>\n",
       "      <td>3214.000000</td>\n",
       "      <td>3214.000000</td>\n",
       "      <td>3214.000000</td>\n",
       "      <td>3214.000000</td>\n",
       "    </tr>\n",
       "    <tr>\n",
       "      <th>mean</th>\n",
       "      <td>63.038892</td>\n",
       "      <td>438.208787</td>\n",
       "      <td>38.281269</td>\n",
       "      <td>17207.673836</td>\n",
       "      <td>0.306472</td>\n",
       "    </tr>\n",
       "    <tr>\n",
       "      <th>std</th>\n",
       "      <td>33.236368</td>\n",
       "      <td>234.569872</td>\n",
       "      <td>36.148326</td>\n",
       "      <td>7570.968246</td>\n",
       "      <td>0.461100</td>\n",
       "    </tr>\n",
       "    <tr>\n",
       "      <th>min</th>\n",
       "      <td>0.000000</td>\n",
       "      <td>0.000000</td>\n",
       "      <td>0.000000</td>\n",
       "      <td>0.000000</td>\n",
       "      <td>0.000000</td>\n",
       "    </tr>\n",
       "    <tr>\n",
       "      <th>25%</th>\n",
       "      <td>40.000000</td>\n",
       "      <td>274.575000</td>\n",
       "      <td>9.000000</td>\n",
       "      <td>12491.902500</td>\n",
       "      <td>0.000000</td>\n",
       "    </tr>\n",
       "    <tr>\n",
       "      <th>50%</th>\n",
       "      <td>62.000000</td>\n",
       "      <td>430.600000</td>\n",
       "      <td>30.000000</td>\n",
       "      <td>16943.235000</td>\n",
       "      <td>0.000000</td>\n",
       "    </tr>\n",
       "    <tr>\n",
       "      <th>75%</th>\n",
       "      <td>82.000000</td>\n",
       "      <td>571.927500</td>\n",
       "      <td>57.000000</td>\n",
       "      <td>21424.700000</td>\n",
       "      <td>1.000000</td>\n",
       "    </tr>\n",
       "    <tr>\n",
       "      <th>max</th>\n",
       "      <td>244.000000</td>\n",
       "      <td>1632.060000</td>\n",
       "      <td>224.000000</td>\n",
       "      <td>49745.730000</td>\n",
       "      <td>1.000000</td>\n",
       "    </tr>\n",
       "  </tbody>\n",
       "</table>\n",
       "</div>"
      ],
      "text/plain": [
       "             calls      minutes     messages       mb_used     is_ultra\n",
       "count  3214.000000  3214.000000  3214.000000   3214.000000  3214.000000\n",
       "mean     63.038892   438.208787    38.281269  17207.673836     0.306472\n",
       "std      33.236368   234.569872    36.148326   7570.968246     0.461100\n",
       "min       0.000000     0.000000     0.000000      0.000000     0.000000\n",
       "25%      40.000000   274.575000     9.000000  12491.902500     0.000000\n",
       "50%      62.000000   430.600000    30.000000  16943.235000     0.000000\n",
       "75%      82.000000   571.927500    57.000000  21424.700000     1.000000\n",
       "max     244.000000  1632.060000   224.000000  49745.730000     1.000000"
      ]
     },
     "execution_count": 55,
     "metadata": {},
     "output_type": "execute_result"
    }
   ],
   "source": [
    "df.describe()"
   ]
  },
  {
   "attachments": {},
   "cell_type": "markdown",
   "metadata": {},
   "source": [
    "Итак, решаем задчу регрессии, так как у нас количественные признаки. Это задача относится к классу обучение с учителем, потому, что у нас есть целевой признак и обучающий набор данных."
   ]
  },
  {
   "attachments": {},
   "cell_type": "markdown",
   "metadata": {},
   "source": [
    "Построим матрицу корреляции признаков:"
   ]
  },
  {
   "cell_type": "code",
   "execution_count": 56,
   "metadata": {},
   "outputs": [
    {
     "data": {
      "image/png": "[encoded data removed]",
      "text/plain": [
       "<Figure size 432x288 with 2 Axes>"
      ]
     },
     "metadata": {
      "needs_background": "light"
     },
     "output_type": "display_data"
    }
   ],
   "source": [
    "sns.heatmap(df[['calls', 'minutes', 'messages', 'mb_used']].corr(), cmap='RdYlGn', annot=True)\n",
    "plt.show()"
   ]
  },
  {
   "cell_type": "code",
   "execution_count": 57,
   "metadata": {},
   "outputs": [
    {
     "data": {
      "image/png": "[encoded data removed]",
      "text/plain": [
       "<Figure size 720x720 with 20 Axes>"
      ]
     },
     "metadata": {
      "needs_background": "light"
     },
     "output_type": "display_data"
    }
   ],
   "source": [
    "sns.pairplot(df[['calls', 'minutes', 'messages', 'mb_used']])\n",
    "plt.show()"
   ]
  },
  {
   "attachments": {},
   "cell_type": "markdown",
   "metadata": {},
   "source": [
    "Мультиколлениарность обнаружилась в двух признаках - 'calls' и 'minutes'. В создании модели рекомендаций тарифного плана, потребуется только количество минут, звонков,  смс и объем трафика. Число звонков не принципиально, так как нет данных по длительности каждого звонка. Признак 'calls' можно удалить из датафрейма:"
   ]
  },
  {
   "cell_type": "code",
   "execution_count": 58,
   "metadata": {},
   "outputs": [
    {
     "data": {
      "text/html": [
       "<div>\n",
       "<style scoped>\n",
       "    .dataframe tbody tr th:only-of-type {\n",
       "        vertical-align: middle;\n",
       "    }\n",
       "\n",
       "    .dataframe tbody tr th {\n",
       "        vertical-align: top;\n",
       "    }\n",
       "\n",
       "    .dataframe thead th {\n",
       "        text-align: right;\n",
       "    }\n",
       "</style>\n",
       "<table border=\"1\" class=\"dataframe\">\n",
       "  <thead>\n",
       "    <tr style=\"text-align: right;\">\n",
       "      <th></th>\n",
       "      <th>minutes</th>\n",
       "      <th>messages</th>\n",
       "      <th>mb_used</th>\n",
       "      <th>is_ultra</th>\n",
       "    </tr>\n",
       "  </thead>\n",
       "  <tbody>\n",
       "    <tr>\n",
       "      <th>0</th>\n",
       "      <td>311.90</td>\n",
       "      <td>83.0</td>\n",
       "      <td>19915.42</td>\n",
       "      <td>0</td>\n",
       "    </tr>\n",
       "    <tr>\n",
       "      <th>1</th>\n",
       "      <td>516.75</td>\n",
       "      <td>56.0</td>\n",
       "      <td>22696.96</td>\n",
       "      <td>0</td>\n",
       "    </tr>\n",
       "    <tr>\n",
       "      <th>2</th>\n",
       "      <td>467.66</td>\n",
       "      <td>86.0</td>\n",
       "      <td>21060.45</td>\n",
       "      <td>0</td>\n",
       "    </tr>\n",
       "    <tr>\n",
       "      <th>3</th>\n",
       "      <td>745.53</td>\n",
       "      <td>81.0</td>\n",
       "      <td>8437.39</td>\n",
       "      <td>1</td>\n",
       "    </tr>\n",
       "    <tr>\n",
       "      <th>4</th>\n",
       "      <td>418.74</td>\n",
       "      <td>1.0</td>\n",
       "      <td>14502.75</td>\n",
       "      <td>0</td>\n",
       "    </tr>\n",
       "  </tbody>\n",
       "</table>\n",
       "</div>"
      ],
      "text/plain": [
       "   minutes  messages   mb_used  is_ultra\n",
       "0   311.90      83.0  19915.42         0\n",
       "1   516.75      56.0  22696.96         0\n",
       "2   467.66      86.0  21060.45         0\n",
       "3   745.53      81.0   8437.39         1\n",
       "4   418.74       1.0  14502.75         0"
      ]
     },
     "execution_count": 58,
     "metadata": {},
     "output_type": "execute_result"
    }
   ],
   "source": [
    "df = df.drop('calls', axis=1)\n",
    "df.head()"
   ]
  },
  {
   "attachments": {},
   "cell_type": "markdown",
   "metadata": {},
   "source": [
    "Посмотрим на матрицу, после устранения признака 'calls':"
   ]
  },
  {
   "cell_type": "code",
   "execution_count": 59,
   "metadata": {},
   "outputs": [
    {
     "data": {
      "image/png": "[encoded data removed]",
      "text/plain": [
       "<Figure size 432x288 with 2 Axes>"
      ]
     },
     "metadata": {
      "needs_background": "light"
     },
     "output_type": "display_data"
    }
   ],
   "source": [
    "sns.heatmap(df[['minutes', 'messages', 'mb_used']].corr(), cmap='RdYlGn', annot=True)\n",
    "plt.show()"
   ]
  },
  {
   "attachments": {},
   "cell_type": "markdown",
   "metadata": {},
   "source": [
    "После устранения мультиколлениарности, приступим к делению данных на выборки."
   ]
  },
  {
   "attachments": {},
   "cell_type": "markdown",
   "metadata": {},
   "source": [
    "## Разобьем данные на выборки"
   ]
  },
  {
   "attachments": {},
   "cell_type": "markdown",
   "metadata": {},
   "source": [
    "Создадим функцию, которая разделит  датафрейм на обучающую, тестовую и валидационную выборки. По данным из нескольких источников по распределение долей, деление будет таким: обучающая выборка - 60% данных, валидационная - 20%, тестовая - 20% данных. Такое соотношение считается оптимальным, нет риска переобучения модели."
   ]
  },
  {
   "cell_type": "code",
   "execution_count": 60,
   "metadata": {},
   "outputs": [],
   "source": [
    "def train_validate_test_split(df, train_percent=.6, validate_percent=.2, seed=123):  #создадим функцию разделениея датасета на выборки\n",
    "    np.random.seed(seed)                                 # вводим генератор случайных чисел\n",
    "    perm = np.random.permutation(df.index)               # подключаем функцию исключения повторов для чистоты расчетов\n",
    "    m = len(df.index)                                    # считаем количество элементов датафрейма\n",
    "    train_end = int(train_percent * m)                   #определяем обучающую выборку\n",
    "    validate_end = int(validate_percent * m) + train_end  #определяем валидационную и тестовую выборку\n",
    "    train = df.iloc[perm[:train_end]]                    # Структурируем обучающую выборку\n",
    "    validate = df.iloc[perm[train_end:validate_end]]     # структурируем валидационную выборку\n",
    "    test = df.iloc[perm[validate_end:]]                  # структурируем тестовую выборку\n",
    "    return train, validate, test                         # возвращаем результаты работы функции по выборкам"
   ]
  },
  {
   "cell_type": "code",
   "execution_count": 61,
   "metadata": {},
   "outputs": [],
   "source": [
    "df_train, df_validate, df_test = train_validate_test_split(df)"
   ]
  },
  {
   "cell_type": "code",
   "execution_count": 62,
   "metadata": {},
   "outputs": [
    {
     "data": {
      "text/plain": [
       "1928"
      ]
     },
     "execution_count": 62,
     "metadata": {},
     "output_type": "execute_result"
    }
   ],
   "source": [
    "df_train.shape[0]"
   ]
  },
  {
   "cell_type": "code",
   "execution_count": 63,
   "metadata": {},
   "outputs": [
    {
     "data": {
      "text/plain": [
       "642"
      ]
     },
     "execution_count": 63,
     "metadata": {},
     "output_type": "execute_result"
    }
   ],
   "source": [
    "df_validate.shape[0]"
   ]
  },
  {
   "cell_type": "code",
   "execution_count": 64,
   "metadata": {},
   "outputs": [
    {
     "data": {
      "text/plain": [
       "644"
      ]
     },
     "execution_count": 64,
     "metadata": {},
     "output_type": "execute_result"
    }
   ],
   "source": [
    "df_test.shape[0]"
   ]
  },
  {
   "attachments": {},
   "cell_type": "markdown",
   "metadata": {},
   "source": [
    "Получили три выборки:\n",
    "\n",
    "          -обучающая - 1928 объектов;\n",
    "          -валидационная - 642 объекта;\n",
    "          -тестовая - 644 объекта.\n",
    "Создадим переменные, в котортых содержатся признаки для модели и целевые признаки."
   ]
  },
  {
   "cell_type": "code",
   "execution_count": 65,
   "metadata": {},
   "outputs": [],
   "source": [
    "#признаки модели на обучающей выборке\n",
    "features_train = df_train.drop('is_ultra', axis=1)\n",
    "#целевой признак\n",
    "target_train = df_train['is_ultra']\n",
    "\n",
    "#признаки модели на валидационной выборке\n",
    "features_valid = df_validate.drop('is_ultra', axis=1)\n",
    "#целевой признак\n",
    "target_valid = df_validate['is_ultra']\n",
    "\n",
    "#признаки модели на тестовой выборке\n",
    "features_test = df_test.drop('is_ultra', axis=1)\n",
    "#целевой признак\n",
    "target_test = df_test['is_ultra']"
   ]
  },
  {
   "cell_type": "code",
   "execution_count": 66,
   "metadata": {},
   "outputs": [
    {
     "data": {
      "text/plain": [
       "1928"
      ]
     },
     "execution_count": 66,
     "metadata": {},
     "output_type": "execute_result"
    }
   ],
   "source": [
    "features_train.shape[0]"
   ]
  },
  {
   "cell_type": "code",
   "execution_count": 67,
   "metadata": {},
   "outputs": [
    {
     "data": {
      "text/plain": [
       "1928"
      ]
     },
     "execution_count": 67,
     "metadata": {},
     "output_type": "execute_result"
    }
   ],
   "source": [
    "target_train.shape[0]"
   ]
  },
  {
   "cell_type": "code",
   "execution_count": 68,
   "metadata": {},
   "outputs": [
    {
     "data": {
      "text/plain": [
       "642"
      ]
     },
     "execution_count": 68,
     "metadata": {},
     "output_type": "execute_result"
    }
   ],
   "source": [
    "features_valid.shape[0]"
   ]
  },
  {
   "cell_type": "code",
   "execution_count": 69,
   "metadata": {},
   "outputs": [
    {
     "data": {
      "text/plain": [
       "642"
      ]
     },
     "execution_count": 69,
     "metadata": {},
     "output_type": "execute_result"
    }
   ],
   "source": [
    "target_valid.shape[0]"
   ]
  },
  {
   "cell_type": "code",
   "execution_count": 70,
   "metadata": {},
   "outputs": [
    {
     "data": {
      "text/plain": [
       "644"
      ]
     },
     "execution_count": 70,
     "metadata": {},
     "output_type": "execute_result"
    }
   ],
   "source": [
    "features_test.shape[0]"
   ]
  },
  {
   "cell_type": "code",
   "execution_count": 71,
   "metadata": {},
   "outputs": [
    {
     "data": {
      "text/plain": [
       "644"
      ]
     },
     "execution_count": 71,
     "metadata": {},
     "output_type": "execute_result"
    }
   ],
   "source": [
    "target_test.shape[0]"
   ]
  },
  {
   "attachments": {},
   "cell_type": "markdown",
   "metadata": {},
   "source": [
    "## Исследуем модели"
   ]
  },
  {
   "attachments": {},
   "cell_type": "markdown",
   "metadata": {},
   "source": [
    "Из условия, перед нами стоит задача бинарной классификации(0 или 1). Будем рассматривать три модели решения."
   ]
  },
  {
   "attachments": {},
   "cell_type": "markdown",
   "metadata": {},
   "source": [
    "- решающее дерево\n",
    "- случайный лес\n",
    "- логистическая регрессия"
   ]
  },
  {
   "attachments": {},
   "cell_type": "markdown",
   "metadata": {},
   "source": [
    "  <strong>Решающее дерево</strong>"
   ]
  },
  {
   "attachments": {},
   "cell_type": "markdown",
   "metadata": {},
   "source": [
    "В целях получения наибольшего значения accuracy на валидационной выборке, будем вручную менять гиперпараметры модели:\n",
    "\n",
    "- max_depth - максимальная глубина дерева (будем рассматривать от 1 до 5, так как при глубине более 5 модель обычно переобучена)\n",
    "- criterion - критерий (Джини или энтропийный)\n",
    "- min_samples_split - минимальное количество объектов, необходимое для разделения внутреннего узла (от 2 до 5)\n",
    "- min_samples_leaf - минимальное количество объектов в листе (от 1 до 5)"
   ]
  },
  {
   "cell_type": "code",
   "execution_count": 72,
   "metadata": {},
   "outputs": [
    {
     "name": "stdout",
     "output_type": "stream",
     "text": [
      "Accuracy лучшей модели на валидационной выборке: 0.769\n",
      "Параметры лучшей модели: DecisionTreeClassifier(criterion='entropy', max_depth=5, random_state=1234)\n"
     ]
    }
   ],
   "source": [
    "best_model_tree = None\n",
    "best_result_tree = 0\n",
    "for depth in range(1, 6):\n",
    "    for criterion in ['gini', 'entropy']:\n",
    "        for split in range(2, 6):\n",
    "            for leaf in range(1, 6):\n",
    "                model_tree = DecisionTreeClassifier(random_state=1234, max_depth=depth, criterion=criterion, \\\n",
    "                                                    min_samples_split=split, min_samples_leaf=leaf)\n",
    "                model_tree.fit(features_train, target_train)\n",
    "                predictions_tree = model_tree.predict(features_valid) \n",
    "                result_tree = accuracy_score(target_valid, predictions_tree).round(3)\n",
    "                if result_tree > best_result_tree:\n",
    "                    best_model_tree = model_tree\n",
    "                    best_result_tree = result_tree\n",
    "                 \n",
    "print('Accuracy лучшей модели на валидационной выборке:', best_result_tree) \n",
    "print('Параметры лучшей модели:', best_model_tree)"
   ]
  },
  {
   "attachments": {},
   "cell_type": "markdown",
   "metadata": {},
   "source": [
    "Получили значение accuracy равное 0,769 на валидационной выборке при следующих гиперпараметрах решающего дерева:\n",
    "\n",
    "- max_depth = 5\n",
    "- criterion = entropy\n",
    "- min_samples_split = 2\n",
    "- min_samples_leaf = 1"
   ]
  },
  {
   "attachments": {},
   "cell_type": "markdown",
   "metadata": {},
   "source": [
    "<strong>Случайный лес</strong>"
   ]
  },
  {
   "attachments": {},
   "cell_type": "markdown",
   "metadata": {},
   "source": [
    "Рассмотрим следующую модель - случайный лес. Будем менять количество деревьев (n_estimators) от 1 до 5. Чем больше деревьев в модели, тем выше точность, но падает скорость работы."
   ]
  },
  {
   "cell_type": "code",
   "execution_count": 73,
   "metadata": {},
   "outputs": [
    {
     "name": "stdout",
     "output_type": "stream",
     "text": [
      "Accuracy лучшей модели на валидационной выборке: 0.752\n",
      "Параметры лучшей модели: RandomForestClassifier(n_estimators=4, random_state=1234)\n"
     ]
    }
   ],
   "source": [
    "best_model_forest = None\n",
    "best_result_forest = 0\n",
    "for est in range(1, 6):\n",
    "    model_forest = RandomForestClassifier(random_state=1234, n_estimators=est) \n",
    "    model_forest.fit(features_train, target_train)\n",
    "    predictions_forest = model_forest.predict(features_valid) \n",
    "    result_forest = accuracy_score(target_valid, predictions_forest).round(3)\n",
    "    if result_forest > best_result_forest:\n",
    "        best_model_forest = model_forest \n",
    "        best_result_forest = result_forest\n",
    "        \n",
    "print('Accuracy лучшей модели на валидационной выборке:', best_result_forest) \n",
    "print('Параметры лучшей модели:', best_model_forest)"
   ]
  },
  {
   "attachments": {},
   "cell_type": "markdown",
   "metadata": {},
   "source": [
    "Получили значение accuracy равное 0,752 на валидационной выборке при количестве деревьев равном 5."
   ]
  },
  {
   "attachments": {},
   "cell_type": "markdown",
   "metadata": {},
   "source": [
    "<strong>Логистическая регрессия</strong>"
   ]
  },
  {
   "attachments": {},
   "cell_type": "markdown",
   "metadata": {},
   "source": [
    "Используем логистическую регрессию:"
   ]
  },
  {
   "cell_type": "code",
   "execution_count": 74,
   "metadata": {},
   "outputs": [
    {
     "name": "stdout",
     "output_type": "stream",
     "text": [
      "Accuracy модели логистической регрессии на валидационной выборке: 0.707\n",
      "Параметры лучшей модели: LogisticRegression(random_state=1234)\n"
     ]
    }
   ],
   "source": [
    "model_regress = LogisticRegression(random_state=1234, class_weight=None, solver='lbfgs') \n",
    "model_regress.fit(features_train, target_train) \n",
    "predictions_regress = model_regress.predict(features_valid)\n",
    "result_regress = accuracy_score(target_valid, predictions_regress).round(3)\n",
    "\n",
    "print(\"Accuracy модели логистической регрессии на валидационной выборке:\", result_regress)\n",
    "print('Параметры лучшей модели:', model_regress)"
   ]
  },
  {
   "attachments": {},
   "cell_type": "markdown",
   "metadata": {},
   "source": [
    "Для логистической регрессии мы получили самое низкое значение accuracy на валидационной выборке, равное 0,707.\n",
    "\n",
    "Теперь проверим все три модели (с подобранными гиперпараметрами) на тестовой выборке."
   ]
  },
  {
   "attachments": {},
   "cell_type": "markdown",
   "metadata": {},
   "source": [
    "<div class=\"alert alert-info\"> <b>Доработка</b></div>"
   ]
  },
  {
   "attachments": {},
   "cell_type": "markdown",
   "metadata": {},
   "source": [
    "Итак, сделаем короткую выборку по моделям и посмотрим на параметры лучшей:"
   ]
  },
  {
   "cell_type": "code",
   "execution_count": 84,
   "metadata": {},
   "outputs": [
    {
     "data": {
      "text/html": [
       "<div>\n",
       "<style scoped>\n",
       "    .dataframe tbody tr th:only-of-type {\n",
       "        vertical-align: middle;\n",
       "    }\n",
       "\n",
       "    .dataframe tbody tr th {\n",
       "        vertical-align: top;\n",
       "    }\n",
       "\n",
       "    .dataframe thead th {\n",
       "        text-align: right;\n",
       "    }\n",
       "</style>\n",
       "<table border=\"1\" class=\"dataframe\">\n",
       "  <thead>\n",
       "    <tr style=\"text-align: right;\">\n",
       "      <th></th>\n",
       "      <th>validate</th>\n",
       "    </tr>\n",
       "  </thead>\n",
       "  <tbody>\n",
       "    <tr>\n",
       "      <th>Решающее дерево</th>\n",
       "      <td>0.769</td>\n",
       "    </tr>\n",
       "    <tr>\n",
       "      <th>Случайный лес</th>\n",
       "      <td>0.752</td>\n",
       "    </tr>\n",
       "    <tr>\n",
       "      <th>Логистическая регрессия</th>\n",
       "      <td>0.707</td>\n",
       "    </tr>\n",
       "  </tbody>\n",
       "</table>\n",
       "</div>"
      ],
      "text/plain": [
       "                         validate\n",
       "Решающее дерево             0.769\n",
       "Случайный лес               0.752\n",
       "Логистическая регрессия     0.707"
      ]
     },
     "execution_count": 84,
     "metadata": {},
     "output_type": "execute_result"
    }
   ],
   "source": [
    "data = {'validate':[best_result_tree, best_result_forest, result_regress],}\n",
    "table = pd.DataFrame(data)\n",
    "table.index = ['Решающее дерево', 'Случайный лес', 'Логистическая регрессия']\n",
    "table"
   ]
  },
  {
   "attachments": {},
   "cell_type": "markdown",
   "metadata": {},
   "source": [
    "Параметры лучшей модели: DecisionTreeClassifier(criterion='entropy', max_depth=5, random_state=1234)"
   ]
  },
  {
   "attachments": {},
   "cell_type": "markdown",
   "metadata": {},
   "source": [
    "Вывод: лучшие результаты, показала модель Решающее дерево, с количеством деревьев по гиперпараметру, равное 5ти. Это говорит о том, что \"средняя температура по больнице\", наиболее объективный взгляд на ситуацию"
   ]
  },
  {
   "attachments": {},
   "cell_type": "markdown",
   "metadata": {},
   "source": [
    "## Проверьте модель на тестовой выборке"
   ]
  },
  {
   "attachments": {},
   "cell_type": "markdown",
   "metadata": {},
   "source": [
    "<strong>Решающее дерево</strong>"
   ]
  },
  {
   "cell_type": "code",
   "execution_count": 75,
   "metadata": {},
   "outputs": [
    {
     "name": "stdout",
     "output_type": "stream",
     "text": [
      "Accuracy модели на тестовой выборке 0.795\n"
     ]
    }
   ],
   "source": [
    "predictions_test_tree = best_model_tree.predict(features_test) \n",
    "result_test_tree = accuracy_score(target_test, predictions_test_tree).round(3)\n",
    "print('Accuracy модели на тестовой выборке', result_test_tree)"
   ]
  },
  {
   "attachments": {},
   "cell_type": "markdown",
   "metadata": {},
   "source": [
    "<strong>Случайны лес</strong>"
   ]
  },
  {
   "cell_type": "code",
   "execution_count": 76,
   "metadata": {},
   "outputs": [
    {
     "name": "stdout",
     "output_type": "stream",
     "text": [
      "Accuracy модели на тестовой выборке 0.783\n"
     ]
    }
   ],
   "source": [
    "predictions_test_forest = best_model_forest.predict(features_test) \n",
    "result_test_forest = accuracy_score(target_test, predictions_test_forest).round(3) \n",
    "print('Accuracy модели на тестовой выборке', result_test_forest)"
   ]
  },
  {
   "attachments": {},
   "cell_type": "markdown",
   "metadata": {},
   "source": [
    "<strong>Логистическая регрессия</strong>"
   ]
  },
  {
   "cell_type": "code",
   "execution_count": 77,
   "metadata": {},
   "outputs": [
    {
     "name": "stdout",
     "output_type": "stream",
     "text": [
      "Accuracy модели на тестовой выборке 0.75\n"
     ]
    }
   ],
   "source": [
    "predictions_test_regress = model_regress.predict(features_test)\n",
    "result_test_regress = accuracy_score(target_test, predictions_test_regress).round(3)\n",
    "print('Accuracy модели на тестовой выборке', result_test_regress)"
   ]
  },
  {
   "cell_type": "code",
   "execution_count": 78,
   "metadata": {},
   "outputs": [
    {
     "data": {
      "text/html": [
       "<div>\n",
       "<style scoped>\n",
       "    .dataframe tbody tr th:only-of-type {\n",
       "        vertical-align: middle;\n",
       "    }\n",
       "\n",
       "    .dataframe tbody tr th {\n",
       "        vertical-align: top;\n",
       "    }\n",
       "\n",
       "    .dataframe thead th {\n",
       "        text-align: right;\n",
       "    }\n",
       "</style>\n",
       "<table border=\"1\" class=\"dataframe\">\n",
       "  <thead>\n",
       "    <tr style=\"text-align: right;\">\n",
       "      <th></th>\n",
       "      <th>validate</th>\n",
       "      <th>test</th>\n",
       "    </tr>\n",
       "  </thead>\n",
       "  <tbody>\n",
       "    <tr>\n",
       "      <th>Решающее дерево</th>\n",
       "      <td>0.769</td>\n",
       "      <td>0.795</td>\n",
       "    </tr>\n",
       "    <tr>\n",
       "      <th>Случайный лес</th>\n",
       "      <td>0.752</td>\n",
       "      <td>0.783</td>\n",
       "    </tr>\n",
       "    <tr>\n",
       "      <th>Логистическая регрессия</th>\n",
       "      <td>0.707</td>\n",
       "      <td>0.750</td>\n",
       "    </tr>\n",
       "  </tbody>\n",
       "</table>\n",
       "</div>"
      ],
      "text/plain": [
       "                         validate   test\n",
       "Решающее дерево             0.769  0.795\n",
       "Случайный лес               0.752  0.783\n",
       "Логистическая регрессия     0.707  0.750"
      ]
     },
     "execution_count": 78,
     "metadata": {},
     "output_type": "execute_result"
    }
   ],
   "source": [
    "data = {'validate':[best_result_tree, best_result_forest, result_regress], 'test':[result_test_tree, \n",
    "                                                                                   result_test_forest,\n",
    "                                                                                   result_test_regress]}\n",
    "table = pd.DataFrame(data)\n",
    "table.index = ['Решающее дерево', 'Случайный лес', 'Логистическая регрессия']\n",
    "table"
   ]
  },
  {
   "attachments": {},
   "cell_type": "markdown",
   "metadata": {},
   "source": [
    "Лучший результат показывает решающее дерево (accuracy на тестовой выборке 0,795), случайный лес немного уступает (0,783). Логистическая регрессия показала наихудший результат (0,750)."
   ]
  },
  {
   "cell_type": "code",
   "execution_count": 79,
   "metadata": {},
   "outputs": [
    {
     "data": {
      "text/html": [
       "<div>\n",
       "<style scoped>\n",
       "    .dataframe tbody tr th:only-of-type {\n",
       "        vertical-align: middle;\n",
       "    }\n",
       "\n",
       "    .dataframe tbody tr th {\n",
       "        vertical-align: top;\n",
       "    }\n",
       "\n",
       "    .dataframe thead th {\n",
       "        text-align: right;\n",
       "    }\n",
       "</style>\n",
       "<table border=\"1\" class=\"dataframe\">\n",
       "  <thead>\n",
       "    <tr style=\"text-align: right;\">\n",
       "      <th></th>\n",
       "      <th>delta</th>\n",
       "    </tr>\n",
       "  </thead>\n",
       "  <tbody>\n",
       "    <tr>\n",
       "      <th>Решающее дерево</th>\n",
       "      <td>0.026</td>\n",
       "    </tr>\n",
       "    <tr>\n",
       "      <th>Случайный лес</th>\n",
       "      <td>0.031</td>\n",
       "    </tr>\n",
       "    <tr>\n",
       "      <th>Логистическая регрессия</th>\n",
       "      <td>0.043</td>\n",
       "    </tr>\n",
       "  </tbody>\n",
       "</table>\n",
       "</div>"
      ],
      "text/plain": [
       "                         delta\n",
       "Решающее дерево          0.026\n",
       "Случайный лес            0.031\n",
       "Логистическая регрессия  0.043"
      ]
     },
     "metadata": {},
     "output_type": "display_data"
    }
   ],
   "source": [
    "table['delta'] = table['test']-table['validate']\n",
    "display(table['delta'].to_frame())"
   ]
  },
  {
   "attachments": {},
   "cell_type": "markdown",
   "metadata": {},
   "source": [
    "На тестовой выборке подтверждается хорошая работа моделей. Посмотрев на дельту, можно сделать вывод что модель\"Случайны лес\" имеет наименьшее расхождение результатов. Как выяснилось, такая дельта - свидетельство предсказуемости модели. Неисключено, что нужна более тонкая настройка гиперпараметров."
   ]
  },
  {
   "attachments": {},
   "cell_type": "markdown",
   "metadata": {},
   "source": [
    "## Проверим модели на адекватность"
   ]
  },
  {
   "attachments": {},
   "cell_type": "markdown",
   "metadata": {},
   "source": [
    "Для проверки модели на адекватность нужно сравнить модель со случайной. Создадим столбец, случайным образом заполняемый нулями и единицами:"
   ]
  },
  {
   "cell_type": "code",
   "execution_count": 80,
   "metadata": {},
   "outputs": [
    {
     "name": "stderr",
     "output_type": "stream",
     "text": [
      "/tmp/ipykernel_31/3044401495.py:1: SettingWithCopyWarning: \n",
      "A value is trying to be set on a copy of a slice from a DataFrame.\n",
      "Try using .loc[row_indexer,col_indexer] = value instead\n",
      "\n",
      "See the caveats in the documentation: https://pandas.pydata.org/pandas-docs/stable/user_guide/indexing.html#returning-a-view-versus-a-copy\n",
      "  df_test['is_ultra_rand'] = np.random.randint(2, size=df_test.shape[0])\n"
     ]
    },
    {
     "data": {
      "text/plain": [
       "0    333\n",
       "1    311\n",
       "Name: is_ultra_rand, dtype: int64"
      ]
     },
     "execution_count": 80,
     "metadata": {},
     "output_type": "execute_result"
    }
   ],
   "source": [
    "df_test['is_ultra_rand'] = np.random.randint(2, size=df_test.shape[0])\n",
    "df_test['is_ultra_rand'].value_counts()"
   ]
  },
  {
   "cell_type": "code",
   "execution_count": 81,
   "metadata": {},
   "outputs": [
    {
     "data": {
      "text/html": [
       "<div>\n",
       "<style scoped>\n",
       "    .dataframe tbody tr th:only-of-type {\n",
       "        vertical-align: middle;\n",
       "    }\n",
       "\n",
       "    .dataframe tbody tr th {\n",
       "        vertical-align: top;\n",
       "    }\n",
       "\n",
       "    .dataframe thead th {\n",
       "        text-align: right;\n",
       "    }\n",
       "</style>\n",
       "<table border=\"1\" class=\"dataframe\">\n",
       "  <thead>\n",
       "    <tr style=\"text-align: right;\">\n",
       "      <th></th>\n",
       "      <th>minutes</th>\n",
       "      <th>messages</th>\n",
       "      <th>mb_used</th>\n",
       "      <th>is_ultra</th>\n",
       "      <th>is_ultra_rand</th>\n",
       "    </tr>\n",
       "  </thead>\n",
       "  <tbody>\n",
       "    <tr>\n",
       "      <th>2967</th>\n",
       "      <td>583.37</td>\n",
       "      <td>58.0</td>\n",
       "      <td>20898.57</td>\n",
       "      <td>1</td>\n",
       "      <td>0</td>\n",
       "    </tr>\n",
       "    <tr>\n",
       "      <th>869</th>\n",
       "      <td>482.18</td>\n",
       "      <td>40.0</td>\n",
       "      <td>11178.07</td>\n",
       "      <td>1</td>\n",
       "      <td>1</td>\n",
       "    </tr>\n",
       "    <tr>\n",
       "      <th>3159</th>\n",
       "      <td>200.09</td>\n",
       "      <td>102.0</td>\n",
       "      <td>27432.25</td>\n",
       "      <td>1</td>\n",
       "      <td>1</td>\n",
       "    </tr>\n",
       "    <tr>\n",
       "      <th>1978</th>\n",
       "      <td>350.29</td>\n",
       "      <td>6.0</td>\n",
       "      <td>22870.78</td>\n",
       "      <td>0</td>\n",
       "      <td>0</td>\n",
       "    </tr>\n",
       "    <tr>\n",
       "      <th>873</th>\n",
       "      <td>556.84</td>\n",
       "      <td>71.0</td>\n",
       "      <td>19869.21</td>\n",
       "      <td>0</td>\n",
       "      <td>0</td>\n",
       "    </tr>\n",
       "  </tbody>\n",
       "</table>\n",
       "</div>"
      ],
      "text/plain": [
       "      minutes  messages   mb_used  is_ultra  is_ultra_rand\n",
       "2967   583.37      58.0  20898.57         1              0\n",
       "869    482.18      40.0  11178.07         1              1\n",
       "3159   200.09     102.0  27432.25         1              1\n",
       "1978   350.29       6.0  22870.78         0              0\n",
       "873    556.84      71.0  19869.21         0              0"
      ]
     },
     "execution_count": 81,
     "metadata": {},
     "output_type": "execute_result"
    }
   ],
   "source": [
    "df_test.head()"
   ]
  },
  {
   "attachments": {},
   "cell_type": "markdown",
   "metadata": {},
   "source": [
    "Создадим переменные с целевым признаком (target_one) и \"предсказаниями\" случайной модели (predict_rand):"
   ]
  },
  {
   "cell_type": "code",
   "execution_count": 82,
   "metadata": {},
   "outputs": [],
   "source": [
    "target_one = df_test['is_ultra']\n",
    "predict_rand = df_test['is_ultra_rand']"
   ]
  },
  {
   "cell_type": "code",
   "execution_count": 83,
   "metadata": {},
   "outputs": [
    {
     "name": "stdout",
     "output_type": "stream",
     "text": [
      "Accuracy случайной модели: 0.474\n"
     ]
    }
   ],
   "source": [
    "result_test_check = accuracy_score(target_one, predict_rand).round(3)\n",
    "print('Accuracy случайной модели:', result_test_check)"
   ]
  },
  {
   "attachments": {},
   "cell_type": "markdown",
   "metadata": {},
   "source": [
    "Вывод: accuracy случайной модели получилась примерно 0,47 (верояность почти 50/50). Accuracy всех наших моделей выше точности случайной модели. Это говорит об адекватности обученных моделей. "
   ]
  },
  {
   "attachments": {},
   "cell_type": "markdown",
   "metadata": {},
   "source": [
    "<h2>Вывод:</h2>"
   ]
  },
  {
   "attachments": {},
   "cell_type": "markdown",
   "metadata": {},
   "source": [
    " Итак, в нашем распоряжении были тестовые данные и целевой признак, на базе которых мы провели эксперименты на трех моделях. Наилучший результат показала модель \"решающее дерево\" с результатом:"
   ]
  },
  {
   "cell_type": "code",
   "execution_count": 87,
   "metadata": {},
   "outputs": [
    {
     "data": {
      "text/html": [
       "<div>\n",
       "<style scoped>\n",
       "    .dataframe tbody tr th:only-of-type {\n",
       "        vertical-align: middle;\n",
       "    }\n",
       "\n",
       "    .dataframe tbody tr th {\n",
       "        vertical-align: top;\n",
       "    }\n",
       "\n",
       "    .dataframe thead th {\n",
       "        text-align: right;\n",
       "    }\n",
       "</style>\n",
       "<table border=\"1\" class=\"dataframe\">\n",
       "  <thead>\n",
       "    <tr style=\"text-align: right;\">\n",
       "      <th></th>\n",
       "      <th>validate</th>\n",
       "      <th>test</th>\n",
       "    </tr>\n",
       "  </thead>\n",
       "  <tbody>\n",
       "    <tr>\n",
       "      <th>Решающее дерево</th>\n",
       "      <td>0.769</td>\n",
       "      <td>0.795</td>\n",
       "    </tr>\n",
       "  </tbody>\n",
       "</table>\n",
       "</div>"
      ],
      "text/plain": [
       "                 validate   test\n",
       "Решающее дерево     0.769  0.795"
      ]
     },
     "execution_count": 87,
     "metadata": {},
     "output_type": "execute_result"
    }
   ],
   "source": [
    "data = {'validate':[best_result_tree], 'test':[result_test_tree]}\n",
    "table = pd.DataFrame(data)\n",
    "table.index = ['Решающее дерево']\n",
    "table"
   ]
  },
  {
   "attachments": {},
   "cell_type": "markdown",
   "metadata": {},
   "source": [
    "Это говорит о том, что для подобного типа данных и глобально задачи регрессии, мы имеем точку отсчета в проведении дальнейших исследований по созданию корректной системы машинного обучения. Модель была опробована на случайных данных и доказала, что обучение прошло успешно."
   ]
  },
  {
   "cell_type": "code",
   "execution_count": 89,
   "metadata": {},
   "outputs": [
    {
     "name": "stdout",
     "output_type": "stream",
     "text": [
      "Accuracy случайной модели: 0.474\n"
     ]
    }
   ],
   "source": [
    "print('Accuracy случайной модели:', result_test_check)"
   ]
  },
  {
   "attachments": {},
   "cell_type": "markdown",
   "metadata": {},
   "source": [
    "В результате, поставленная в усовии задача была выполненна!"
   ]
  }
 ],
 "metadata": {
  "ExecuteTimeLog": [
   {
    "duration": 534,
    "start_time": "2023-01-24T07:43:50.483Z"
   },
   {
    "duration": 9,
    "start_time": "2023-01-24T07:44:12.539Z"
   },
   {
    "duration": 780,
    "start_time": "2023-01-24T07:48:03.625Z"
   },
   {
    "duration": 3,
    "start_time": "2023-01-24T07:49:01.580Z"
   },
   {
    "duration": 10,
    "start_time": "2023-01-24T07:49:24.404Z"
   },
   {
    "duration": 79,
    "start_time": "2023-01-24T07:50:04.527Z"
   },
   {
    "duration": 13,
    "start_time": "2023-01-24T07:50:38.443Z"
   },
   {
    "duration": 9,
    "start_time": "2023-01-24T07:51:37.139Z"
   },
   {
    "duration": 1266,
    "start_time": "2023-01-26T09:29:42.452Z"
   },
   {
    "duration": 11,
    "start_time": "2023-01-26T09:29:43.720Z"
   },
   {
    "duration": 19,
    "start_time": "2023-01-26T09:29:43.733Z"
   },
   {
    "duration": 112,
    "start_time": "2023-01-26T09:29:51.261Z"
   },
   {
    "duration": 17,
    "start_time": "2023-01-26T09:30:13.408Z"
   },
   {
    "duration": 8,
    "start_time": "2023-01-26T09:30:57.565Z"
   },
   {
    "duration": 4,
    "start_time": "2023-01-26T09:55:38.524Z"
   },
   {
    "duration": 8,
    "start_time": "2023-01-26T09:56:37.862Z"
   },
   {
    "duration": 30,
    "start_time": "2023-01-26T09:56:50.009Z"
   },
   {
    "duration": 14,
    "start_time": "2023-01-26T09:56:50.041Z"
   },
   {
    "duration": 38,
    "start_time": "2023-01-26T09:56:50.064Z"
   },
   {
    "duration": 11,
    "start_time": "2023-01-26T09:56:50.104Z"
   },
   {
    "duration": 17,
    "start_time": "2023-01-26T09:56:50.118Z"
   },
   {
    "duration": 4,
    "start_time": "2023-01-26T09:56:55.027Z"
   },
   {
    "duration": 9,
    "start_time": "2023-01-26T09:56:55.431Z"
   },
   {
    "duration": 4,
    "start_time": "2023-01-26T09:57:10.427Z"
   },
   {
    "duration": 5,
    "start_time": "2023-01-26T10:48:35.928Z"
   },
   {
    "duration": 74,
    "start_time": "2023-01-26T10:50:29.689Z"
   },
   {
    "duration": 54,
    "start_time": "2023-01-26T10:50:36.176Z"
   },
   {
    "duration": 4,
    "start_time": "2023-01-26T10:51:11.381Z"
   },
   {
    "duration": 4,
    "start_time": "2023-01-26T10:51:12.230Z"
   },
   {
    "duration": 4,
    "start_time": "2023-01-26T10:51:12.881Z"
   },
   {
    "duration": 5,
    "start_time": "2023-01-26T10:56:49.245Z"
   },
   {
    "duration": 48,
    "start_time": "2023-01-26T11:08:27.759Z"
   },
   {
    "duration": 11,
    "start_time": "2023-01-26T11:12:28.266Z"
   },
   {
    "duration": 6,
    "start_time": "2023-01-26T11:12:38.302Z"
   },
   {
    "duration": 990,
    "start_time": "2023-01-26T11:12:41.208Z"
   },
   {
    "duration": 113,
    "start_time": "2023-01-26T11:20:56.047Z"
   },
   {
    "duration": 50,
    "start_time": "2023-01-26T11:27:04.076Z"
   },
   {
    "duration": 6,
    "start_time": "2023-01-26T11:30:52.162Z"
   },
   {
    "duration": 8,
    "start_time": "2023-01-26T11:30:52.563Z"
   },
   {
    "duration": 6,
    "start_time": "2023-01-26T11:30:52.936Z"
   },
   {
    "duration": 7,
    "start_time": "2023-01-26T11:35:37.152Z"
   },
   {
    "duration": 11,
    "start_time": "2023-01-26T11:37:44.108Z"
   },
   {
    "duration": 9,
    "start_time": "2023-01-26T11:38:42.842Z"
   },
   {
    "duration": 9,
    "start_time": "2023-01-26T11:38:45.867Z"
   },
   {
    "duration": 8,
    "start_time": "2023-01-26T11:38:50.081Z"
   },
   {
    "duration": 10,
    "start_time": "2023-01-26T11:45:55.384Z"
   },
   {
    "duration": 20,
    "start_time": "2023-01-26T11:47:47.337Z"
   },
   {
    "duration": 8,
    "start_time": "2023-01-26T11:49:28.032Z"
   },
   {
    "duration": 8,
    "start_time": "2023-01-26T11:49:54.364Z"
   },
   {
    "duration": 2,
    "start_time": "2023-01-26T11:50:01.574Z"
   },
   {
    "duration": 2,
    "start_time": "2023-01-26T11:50:04.635Z"
   },
   {
    "duration": 10,
    "start_time": "2023-01-26T11:50:07.306Z"
   },
   {
    "duration": 3,
    "start_time": "2023-01-26T11:50:08.772Z"
   },
   {
    "duration": 4,
    "start_time": "2023-01-26T11:50:54.765Z"
   },
   {
    "duration": 1220,
    "start_time": "2023-01-27T11:51:53.153Z"
   },
   {
    "duration": 12,
    "start_time": "2023-01-27T11:51:54.375Z"
   },
   {
    "duration": 14,
    "start_time": "2023-01-27T11:51:54.389Z"
   },
   {
    "duration": 5,
    "start_time": "2023-01-27T11:51:54.404Z"
   },
   {
    "duration": 14,
    "start_time": "2023-01-27T11:51:54.412Z"
   },
   {
    "duration": 13,
    "start_time": "2023-01-27T11:51:54.428Z"
   },
   {
    "duration": 15,
    "start_time": "2023-01-27T11:51:54.443Z"
   },
   {
    "duration": 16,
    "start_time": "2023-01-27T11:51:54.460Z"
   },
   {
    "duration": 11,
    "start_time": "2023-01-27T11:51:54.478Z"
   },
   {
    "duration": 1055,
    "start_time": "2023-01-27T11:51:54.491Z"
   },
   {
    "duration": 91,
    "start_time": "2023-01-27T11:51:55.548Z"
   },
   {
    "duration": 27,
    "start_time": "2023-01-27T11:51:55.641Z"
   },
   {
    "duration": 6,
    "start_time": "2023-01-27T11:51:55.670Z"
   },
   {
    "duration": 8,
    "start_time": "2023-01-27T11:51:55.678Z"
   },
   {
    "duration": 23,
    "start_time": "2023-01-27T11:51:55.688Z"
   },
   {
    "duration": 18,
    "start_time": "2023-01-27T11:51:55.713Z"
   },
   {
    "duration": 15,
    "start_time": "2023-01-27T11:51:55.733Z"
   },
   {
    "duration": 11,
    "start_time": "2023-01-27T11:51:55.750Z"
   },
   {
    "duration": 19,
    "start_time": "2023-01-27T11:51:55.763Z"
   },
   {
    "duration": 11,
    "start_time": "2023-01-27T11:51:55.784Z"
   },
   {
    "duration": 14,
    "start_time": "2023-01-27T11:51:55.797Z"
   },
   {
    "duration": 6,
    "start_time": "2023-01-27T19:25:17.595Z"
   },
   {
    "duration": 8,
    "start_time": "2023-01-27T19:25:31.509Z"
   },
   {
    "duration": 10,
    "start_time": "2023-01-27T19:25:40.770Z"
   },
   {
    "duration": 10,
    "start_time": "2023-01-27T19:26:08.930Z"
   },
   {
    "duration": 16,
    "start_time": "2023-01-27T19:26:21.756Z"
   },
   {
    "duration": 13,
    "start_time": "2023-01-27T19:26:32.466Z"
   },
   {
    "duration": 35,
    "start_time": "2023-01-27T20:16:17.774Z"
   },
   {
    "duration": 9,
    "start_time": "2023-01-27T20:16:34.540Z"
   },
   {
    "duration": 74,
    "start_time": "2023-01-27T20:17:13.158Z"
   },
   {
    "duration": 7,
    "start_time": "2023-01-27T20:23:39.215Z"
   },
   {
    "duration": 4,
    "start_time": "2023-01-27T20:24:08.429Z"
   },
   {
    "duration": 5,
    "start_time": "2023-01-27T20:24:34.815Z"
   },
   {
    "duration": 6,
    "start_time": "2023-01-27T20:24:51.220Z"
   },
   {
    "duration": 5,
    "start_time": "2023-01-27T20:25:01.422Z"
   },
   {
    "duration": 8,
    "start_time": "2023-01-27T20:26:32.921Z"
   },
   {
    "duration": 5,
    "start_time": "2023-01-27T20:27:00.065Z"
   },
   {
    "duration": 5,
    "start_time": "2023-01-27T20:27:24.506Z"
   },
   {
    "duration": 5,
    "start_time": "2023-01-27T20:27:35.611Z"
   },
   {
    "duration": 6,
    "start_time": "2023-01-27T20:27:49.657Z"
   },
   {
    "duration": 4,
    "start_time": "2023-01-27T20:28:03.586Z"
   },
   {
    "duration": 45,
    "start_time": "2023-01-31T17:33:50.916Z"
   },
   {
    "duration": 1225,
    "start_time": "2023-01-31T17:34:13.037Z"
   },
   {
    "duration": 12,
    "start_time": "2023-01-31T17:34:14.264Z"
   },
   {
    "duration": 15,
    "start_time": "2023-01-31T17:34:14.277Z"
   },
   {
    "duration": 30,
    "start_time": "2023-01-31T17:34:14.294Z"
   },
   {
    "duration": 5,
    "start_time": "2023-01-31T17:34:14.325Z"
   },
   {
    "duration": 7,
    "start_time": "2023-01-31T17:34:14.331Z"
   },
   {
    "duration": 5,
    "start_time": "2023-01-31T17:34:14.340Z"
   },
   {
    "duration": 24,
    "start_time": "2023-01-31T17:34:14.346Z"
   },
   {
    "duration": 6,
    "start_time": "2023-01-31T17:34:14.372Z"
   },
   {
    "duration": 9,
    "start_time": "2023-01-31T17:34:14.380Z"
   },
   {
    "duration": 10,
    "start_time": "2023-01-31T17:34:14.391Z"
   },
   {
    "duration": 6,
    "start_time": "2023-01-31T17:34:14.402Z"
   },
   {
    "duration": 7,
    "start_time": "2023-01-31T17:34:14.410Z"
   },
   {
    "duration": 10,
    "start_time": "2023-01-31T17:34:14.418Z"
   },
   {
    "duration": 6,
    "start_time": "2023-01-31T17:34:14.429Z"
   },
   {
    "duration": 6,
    "start_time": "2023-01-31T17:34:14.437Z"
   },
   {
    "duration": 1036,
    "start_time": "2023-01-31T17:34:14.444Z"
   },
   {
    "duration": 90,
    "start_time": "2023-01-31T17:34:15.482Z"
   },
   {
    "duration": 45,
    "start_time": "2023-01-31T17:34:15.573Z"
   },
   {
    "duration": 5,
    "start_time": "2023-01-31T17:34:15.620Z"
   },
   {
    "duration": 8,
    "start_time": "2023-01-31T17:34:15.627Z"
   },
   {
    "duration": 32,
    "start_time": "2023-01-31T17:34:15.636Z"
   },
   {
    "duration": 9,
    "start_time": "2023-01-31T17:34:15.670Z"
   },
   {
    "duration": 28,
    "start_time": "2023-01-31T17:34:15.681Z"
   },
   {
    "duration": 7,
    "start_time": "2023-01-31T17:34:15.710Z"
   },
   {
    "duration": 10,
    "start_time": "2023-01-31T17:34:15.719Z"
   },
   {
    "duration": 5,
    "start_time": "2023-01-31T17:34:15.730Z"
   },
   {
    "duration": 4,
    "start_time": "2023-01-31T17:34:15.737Z"
   },
   {
    "duration": 51,
    "start_time": "2023-01-31T17:36:39.749Z"
   },
   {
    "duration": 471,
    "start_time": "2023-01-31T17:38:08.121Z"
   },
   {
    "duration": 13,
    "start_time": "2023-01-31T17:38:08.670Z"
   },
   {
    "duration": 7,
    "start_time": "2023-01-31T17:38:09.104Z"
   },
   {
    "duration": 24,
    "start_time": "2023-01-31T17:38:09.943Z"
   },
   {
    "duration": 74,
    "start_time": "2023-01-31T17:38:11.887Z"
   },
   {
    "duration": 352,
    "start_time": "2023-01-31T17:38:23.479Z"
   },
   {
    "duration": 344,
    "start_time": "2023-01-31T17:38:43.340Z"
   },
   {
    "duration": 2517,
    "start_time": "2023-01-31T17:38:52.999Z"
   },
   {
    "duration": 2545,
    "start_time": "2023-01-31T17:39:46.949Z"
   },
   {
    "duration": 11,
    "start_time": "2023-01-31T17:40:27.744Z"
   },
   {
    "duration": 16,
    "start_time": "2023-01-31T17:40:42.426Z"
   },
   {
    "duration": 12,
    "start_time": "2023-01-31T17:41:13.322Z"
   },
   {
    "duration": 28,
    "start_time": "2023-01-31T17:41:20.871Z"
   },
   {
    "duration": 10,
    "start_time": "2023-01-31T17:41:21.471Z"
   },
   {
    "duration": 6,
    "start_time": "2023-01-31T17:41:21.984Z"
   },
   {
    "duration": 21,
    "start_time": "2023-01-31T17:41:23.029Z"
   },
   {
    "duration": 270,
    "start_time": "2023-01-31T17:41:24.703Z"
   },
   {
    "duration": 2328,
    "start_time": "2023-01-31T17:41:26.108Z"
   },
   {
    "duration": 9,
    "start_time": "2023-01-31T17:41:44.245Z"
   },
   {
    "duration": 257,
    "start_time": "2023-01-31T17:42:23.321Z"
   },
   {
    "duration": 263,
    "start_time": "2023-01-31T17:42:26.975Z"
   },
   {
    "duration": 27,
    "start_time": "2023-01-31T18:02:34.079Z"
   },
   {
    "duration": 10,
    "start_time": "2023-01-31T18:02:34.108Z"
   },
   {
    "duration": 12,
    "start_time": "2023-01-31T18:02:34.119Z"
   },
   {
    "duration": 24,
    "start_time": "2023-01-31T18:02:34.132Z"
   },
   {
    "duration": 357,
    "start_time": "2023-01-31T18:02:34.157Z"
   },
   {
    "duration": 2590,
    "start_time": "2023-01-31T18:02:34.516Z"
   },
   {
    "duration": 13,
    "start_time": "2023-01-31T18:02:37.109Z"
   },
   {
    "duration": 347,
    "start_time": "2023-01-31T18:02:37.124Z"
   },
   {
    "duration": 4,
    "start_time": "2023-01-31T18:02:37.473Z"
   },
   {
    "duration": 6,
    "start_time": "2023-01-31T18:02:37.480Z"
   },
   {
    "duration": 7,
    "start_time": "2023-01-31T18:02:37.487Z"
   },
   {
    "duration": 7,
    "start_time": "2023-01-31T18:02:37.496Z"
   },
   {
    "duration": 5,
    "start_time": "2023-01-31T18:02:37.504Z"
   },
   {
    "duration": 8,
    "start_time": "2023-01-31T18:02:37.510Z"
   },
   {
    "duration": 8,
    "start_time": "2023-01-31T18:02:37.520Z"
   },
   {
    "duration": 38,
    "start_time": "2023-01-31T18:02:37.530Z"
   },
   {
    "duration": 4,
    "start_time": "2023-01-31T18:02:37.570Z"
   },
   {
    "duration": 12,
    "start_time": "2023-01-31T18:02:37.575Z"
   },
   {
    "duration": 5,
    "start_time": "2023-01-31T18:02:37.589Z"
   },
   {
    "duration": 5,
    "start_time": "2023-01-31T18:02:37.596Z"
   },
   {
    "duration": 923,
    "start_time": "2023-01-31T18:02:37.603Z"
   },
   {
    "duration": 70,
    "start_time": "2023-01-31T18:02:38.528Z"
   },
   {
    "duration": 25,
    "start_time": "2023-01-31T18:02:38.600Z"
   },
   {
    "duration": 6,
    "start_time": "2023-01-31T18:02:38.627Z"
   },
   {
    "duration": 35,
    "start_time": "2023-01-31T18:02:38.635Z"
   },
   {
    "duration": 13,
    "start_time": "2023-01-31T18:02:38.671Z"
   },
   {
    "duration": 15,
    "start_time": "2023-01-31T18:02:38.686Z"
   },
   {
    "duration": 20,
    "start_time": "2023-01-31T18:02:38.704Z"
   },
   {
    "duration": 11,
    "start_time": "2023-01-31T18:02:38.726Z"
   },
   {
    "duration": 12,
    "start_time": "2023-01-31T18:02:38.738Z"
   },
   {
    "duration": 2,
    "start_time": "2023-01-31T18:02:38.767Z"
   },
   {
    "duration": 6,
    "start_time": "2023-01-31T18:02:38.771Z"
   },
   {
    "duration": 8,
    "start_time": "2023-01-31T18:09:54.458Z"
   },
   {
    "duration": 57,
    "start_time": "2023-01-31T18:16:08.817Z"
   },
   {
    "duration": 11,
    "start_time": "2023-01-31T18:53:54.993Z"
   },
   {
    "duration": 9,
    "start_time": "2023-01-31T18:54:01.207Z"
   },
   {
    "duration": 4,
    "start_time": "2023-01-31T18:59:06.171Z"
   },
   {
    "duration": 3,
    "start_time": "2023-01-31T19:02:04.750Z"
   }
  ],
  "kernelspec": {
   "display_name": "Python 3 (ipykernel)",
   "language": "python",
   "name": "python3"
  },
  "language_info": {
   "codemirror_mode": {
    "name": "ipython",
    "version": 3
   },
   "file_extension": ".py",
   "mimetype": "text/x-python",
   "name": "python",
   "nbconvert_exporter": "python",
   "pygments_lexer": "ipython3",
   "version": "3.9.5"
  },
  "toc": {
   "base_numbering": 1,
   "nav_menu": {},
   "number_sections": true,
   "sideBar": true,
   "skip_h1_title": true,
   "title_cell": "Table of Contents",
   "title_sidebar": "Contents",
   "toc_cell": false,
   "toc_position": {},
   "toc_section_display": true,
   "toc_window_display": false
  }
 },
 "nbformat": 4,
 "nbformat_minor": 2
}
